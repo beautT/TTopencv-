{
 "cells": [
  {
   "cell_type": "markdown",
   "metadata": {},
   "source": [
    "# 读取文件"
   ]
  },
  {
   "cell_type": "code",
   "execution_count": 1,
   "metadata": {},
   "outputs": [
    {
     "name": "stdout",
     "output_type": "stream",
     "text": [
      "I am student\n",
      "True\n"
     ]
    }
   ],
   "source": [
    "with open('love.txt','r') as fp:\n",
    "    print(fp.read())\n",
    "print(fp.closed)"
   ]
  },
  {
   "cell_type": "markdown",
   "metadata": {},
   "source": [
    "# 文本转拼音"
   ]
  },
  {
   "cell_type": "code",
   "execution_count": 4,
   "metadata": {},
   "outputs": [
    {
     "name": "stdout",
     "output_type": "stream",
     "text": [
      "wo-ai-ni-bu-shi-yin-wei-ni-shi-shui-，-er-shi-yin-wei-wo-he-ni-zai-yi-qi-de-shi-hou-shi-shui-。\n",
      "-mei-you-ren-zhi-de-ni-liu-lei-，-zhi-de-rang-ni-zhe-me-zuo-de-ren-bu-hui-rang-ni-ku-qi-。\n",
      "-cuo-guo-bie-ren-de-zui-zao-gao-de-fang-shi-shi-zuo-zai-ta-men-pang-bian-，-zhi-dao-ni-bu-neng-yong-you-ta-men-。\n",
      "-zong-ran-shang-xin-，-ye-bu-yao-zhou-mei-，-yin-wei-ni-bu-zhi-dao-shi-shui-ai-shang-le-ni-de-xiao-rong-。\n",
      "-dui-shi-jie-er-yan-，-ni-ke-neng-shi-yi-ge-ren-，-dan-dui-mou-ge-ren-lai-shuo-，-ni-ke-neng-shi-zheng-ge-shi-jie-\n",
      "-bu-yao-ba-ni-de-shi-jian-lang-fei-zai-yi-ge-bu-yuan-zai-ni-shen-shang-lang-fei-shi-jian-de-nan-ren-/-nv-ren-shen-shang-。\n",
      "-jin-jin-yin-wei-mou-ren-mei-you-an-ni-suo-xi-wang-de-fang-shi-ai-ni-，-bing-bu-yi-wei-zhao-ta-men-mei-you-quan-xin-quan-yi-di-ai-ni-。\n",
      "-bu-yao-nu-li-，-zui-hao-de-shi-qing-zong-hui-zai-ni-zui-bu-qi-dai-de-shi-hou-chu-xian-。\n",
      "True\n"
     ]
    }
   ],
   "source": [
    "from xpinyin import Pinyin\n",
    "p=Pinyin()\n",
    "with open('lovecn.txt','r') as fp:\n",
    "    text=p.get_pinyin(fp.read())\n",
    "    print(text)\n",
    "print(fp.closed)"
   ]
  },
  {
   "cell_type": "markdown",
   "metadata": {},
   "source": [
    "# 语音转文字"
   ]
  },
  {
   "cell_type": "code",
   "execution_count": 5,
   "metadata": {},
   "outputs": [
    {
     "name": "stdout",
     "output_type": "stream",
     "text": [
      "* 开始录音......\n",
      "* 正在识别......\n",
      "{'err_msg': 'speech quality error.', 'err_no': 3301, 'sn': '643875750311557322507'}\n",
      "没有识别到语音\n",
      "\n",
      "\n"
     ]
    }
   ],
   "source": [
    "from xpinyin import Pinyin\n",
    "from aip import AipSpeech\n",
    "import pyaudio\n",
    "import wave\n",
    "\n",
    "pin=Pinyin()\n",
    "\n",
    "CHUNK = 1024    \n",
    "FORMAT = pyaudio.paInt16\n",
    "CHANNELS = 2    \n",
    "RATE = 8000\n",
    "RECORD_SECONDS = 5\n",
    "WAVE_OUTPUT_FILENAME = \"audio.wav\"\n",
    "\n",
    "APP_ID = '15834169'\n",
    "API_KEY = 'sG4lDgskMHePrG3GjoDGLR4t'\n",
    "SECRET_KEY = 'fk8FILysQEqRAt66dQX9SIThGzVrIm7e'\n",
    "client = AipSpeech(APP_ID, API_KEY, SECRET_KEY)\n",
    "\n",
    "def readFile(fileName):\n",
    "    with open(fileName, 'rb') as fp:\n",
    "        return fp.read()\n",
    "\n",
    "\n",
    "def getBaiduText():         #  获得数据\n",
    "    p = pyaudio.PyAudio()\n",
    "\n",
    "    stream = p.open(format=FORMAT,\n",
    "                    channels=CHANNELS,\n",
    "                    rate=RATE,\n",
    "                    input=True,\n",
    "                    frames_per_buffer=CHUNK)\n",
    "\n",
    "    stream.start_stream()\n",
    "    print(\"* 开始录音......\")\n",
    "\n",
    "    frames = []\n",
    "    for i in range(0, int(RATE / CHUNK * RECORD_SECONDS)):\n",
    "        data = stream.read(CHUNK)\n",
    "        frames.append(data)\n",
    "\n",
    "    stream.stop_stream()\n",
    " \n",
    "    wf = wave.open(WAVE_OUTPUT_FILENAME, 'wb')\n",
    "    wf.setnchannels(CHANNELS)\n",
    "    wf.setsampwidth(p.get_sample_size(FORMAT))\n",
    "    wf.setframerate(RATE)\n",
    "    wf.writeframes(b''.join(frames))\n",
    "    \n",
    "    print(\"* 正在识别......\")\n",
    "    result = client.asr(readFile('audio.wav'), 'wav', 16000, {\n",
    "    'dev_pid': 1536,\n",
    "})\n",
    "    print(result)\n",
    "    if result[\"err_no\"] == 0:\n",
    "        for t in result[\"result\"]:\n",
    "            return t\n",
    "    else:\n",
    "        print(\"没有识别到语音\\n\")\n",
    "        return \"\"\n",
    "\n",
    "\n",
    "\n",
    "print(pin.get_pinyin(getBaiduText()))\n"
   ]
  },
  {
   "cell_type": "code",
   "execution_count": 1,
   "metadata": {},
   "outputs": [
    {
     "ename": "NameError",
     "evalue": "name 'http' is not defined",
     "output_type": "error",
     "traceback": [
      "\u001b[1;31m---------------------------------------------------------------------------\u001b[0m",
      "\u001b[1;31mNameError\u001b[0m                                 Traceback (most recent call last)",
      "\u001b[1;32m<ipython-input-1-2814907e3b32>\u001b[0m in \u001b[0;36m<module>\u001b[1;34m\u001b[0m\n\u001b[0;32m      4\u001b[0m \u001b[1;32mimport\u001b[0m \u001b[0murllib\u001b[0m\u001b[1;33m\u001b[0m\u001b[1;33m\u001b[0m\u001b[0m\n\u001b[0;32m      5\u001b[0m \u001b[1;33m\u001b[0m\u001b[0m\n\u001b[1;32m----> 6\u001b[1;33m \u001b[0mresp\u001b[0m \u001b[1;33m=\u001b[0m \u001b[0mhttp\u001b[0m\u001b[1;33m.\u001b[0m\u001b[0mrequest\u001b[0m\u001b[1;33m(\u001b[0m\u001b[1;34m'GET'\u001b[0m\u001b[1;33m,\u001b[0m \u001b[1;34m'http://www.weather.com.cn/weather/101020100.shtml'\u001b[0m\u001b[1;33m)\u001b[0m\u001b[1;33m\u001b[0m\u001b[1;33m\u001b[0m\u001b[0m\n\u001b[0m\u001b[0;32m      7\u001b[0m \u001b[0mresp\u001b[0m\u001b[1;33m=\u001b[0m\u001b[0murllib\u001b[0m\u001b[1;33m.\u001b[0m\u001b[0mrequest\u001b[0m\u001b[1;33m.\u001b[0m\u001b[0murlopen\u001b[0m\u001b[1;33m(\u001b[0m\u001b[1;34m'http://www.weather.com.cn/weather/101020100.shtml'\u001b[0m\u001b[1;33m)\u001b[0m\u001b[1;33m\u001b[0m\u001b[1;33m\u001b[0m\u001b[0m\n\u001b[0;32m      8\u001b[0m \u001b[0mprint\u001b[0m\u001b[1;33m(\u001b[0m\u001b[0mresp\u001b[0m\u001b[1;33m.\u001b[0m\u001b[0mstatus\u001b[0m\u001b[1;33m)\u001b[0m\u001b[1;33m\u001b[0m\u001b[1;33m\u001b[0m\u001b[0m\n",
      "\u001b[1;31mNameError\u001b[0m: name 'http' is not defined"
     ]
    }
   ],
   "source": [
    "from bs4 import BeautifulSoup\n",
    "import re\n",
    "\n",
    "import urllib\n",
    "\n",
    "resp = http.request('GET', 'http://www.weather.com.cn/weather/101020100.shtml')\n",
    "resp=urllib.request.urlopen('http://www.weather.com.cn/weather/101020100.shtml')\n",
    "print(resp.status)\n",
    "soup=BeautifulSoup(resp.data) \n",
    "tagData=soup.find('ul',class_=\"t clearfix\")\n",
    "print(tagData)\n"
   ]
  },
  {
   "cell_type": "code",
   "execution_count": 6,
   "metadata": {},
   "outputs": [],
   "source": [
    "from aip import AipSpeech\n",
    "import os\n",
    "\n",
    "\"\"\" 你的 APPID AK SK \"\"\"\n",
    "APP_ID = '15902738'\n",
    "API_KEY = 'BDxCS2Buf2KDPjtesZWI7Gfe'\n",
    "SECRET_KEY = 'Ic4MgB53o9DqMjDreObCt5XdPD9IbOPo'\n",
    "\n",
    "\n",
    "\n",
    "client = AipSpeech(APP_ID, API_KEY, SECRET_KEY)\n",
    "\n",
    "\n",
    "def writeFile(fileName,result):\n",
    "    with open(fileName, 'wb') as fp:\n",
    "        fp.write(result)\n",
    "\n",
    "def getBaiduVoice(text):\n",
    "    result  = client.synthesis(text, 'zh', 6, {'vol': 15, 'per':3,'spd':5})\n",
    "    if not isinstance(result, dict):\n",
    "        writeFile(\"back.mp3\",result)\n",
    "    playVoice(\"back.mp3\")\n",
    "\n",
    "def playVoice(fileName):\n",
    "    os.system(\"madplay -v \" + fileName)\n",
    "\n",
    "with open('lovecn.txt','r') as fp:\n",
    "    txt = fp.read()\n",
    "    \n",
    "getBaiduVoice(txt)"
   ]
  },
  {
   "cell_type": "code",
   "execution_count": null,
   "metadata": {},
   "outputs": [],
   "source": []
  }
 ],
 "metadata": {
  "kernelspec": {
   "display_name": "Python 3",
   "language": "python",
   "name": "python3"
  }
 },
 "nbformat": 4,
 "nbformat_minor": 2
}
